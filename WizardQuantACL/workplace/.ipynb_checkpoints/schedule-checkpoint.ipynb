{
 "cells": [
  {
   "cell_type": "code",
   "execution_count": 5,
   "id": "12c1dcd7",
   "metadata": {},
   "outputs": [],
   "source": [
    "from ACLScheduleTest.Simulate import Simulator\n",
    "from ACLScheduleTest.Analysis import Analyst\n",
    "from ACLScheduleTest.data import RandomDsk\n",
    "import numpy as np\n",
    "from time import time\n",
    "\n",
    "rd = RandomDsk(\n",
    "    mute=True, node_num=100,\n",
    "    st_node_num=10,\n",
    "    min_time=1, time_lv=0, time_rv=0, min_time_step=0,\n",
    "    avg_mem_peek=1, mem_pv=0, mem_sv=1\n",
    ")\n",
    "dsk = rd.build()\n",
    "sim = Simulator()\n",
    "\n"
   ]
  },
  {
   "cell_type": "markdown",
   "id": "02f87860",
   "metadata": {},
   "source": [
    "## schedule_in_func "
   ]
  },
  {
   "cell_type": "code",
   "execution_count": null,
   "id": "e05501ea",
   "metadata": {},
   "outputs": [],
   "source": [
    "def schedule_in_func(workers, cache, av_mem, factor_node_dict, calculated_node_dict, dsk, global_dict):\n",
    "    # need to calculater\n",
    "    factor_node = set([k for k in factor_node_dict if factor_node_dict[k] is None])\n",
    "\n",
    "    if len(factor_node) == 0:\n",
    "        return None\n",
    "\n",
    "    workers_nodes = set([workers[k][0] for k in workers if workers[k] is not None])\n",
    "\n",
    "    def topoOrder():\n",
    "        topoQueue = []\n",
    "        q = list(factor_node - set(cache.keys()) - workers_nodes)\n",
    "\n",
    "        nodeList = set(dsk.keys()) - set(factor_node)\n",
    "        while len(q):\n",
    "            node, q = q[0], q[1:]\n",
    "\n",
    "            topoQueue.append(node)\n",
    "\n",
    "            append_nodes = [arg for arg in dsk[node][1:] if\n",
    "                            (arg in nodeList) and (arg not in cache.keys()) and (arg not in workers_nodes)]\n",
    "            nodeList = nodeList - set(append_nodes)\n",
    "            q = q + append_nodes\n",
    "        return topoQueue\n",
    "\n",
    "    topo_node = topoOrder()\n",
    "\n",
    "    nodeList = dsk.keys()\n",
    "\n",
    "    def available_node():\n",
    "        for node in topo_node:\n",
    "            if dsk[node][0].mem > av_mem:\n",
    "                continue\n",
    "            args = dsk[node][1:]\n",
    "            isAvailable = True\n",
    "            for arg in args:\n",
    "                if (arg in nodeList) and (arg not in cache):\n",
    "                    isAvailable = False\n",
    "                    break\n",
    "            if isAvailable:\n",
    "                return node\n",
    "        return None\n",
    "\n",
    "    return available_node()"
   ]
  },
  {
   "cell_type": "markdown",
   "id": "21282720",
   "metadata": {},
   "source": [
    "## schedule_out_func"
   ]
  },
  {
   "cell_type": "code",
   "execution_count": null,
   "id": "5bdcb311",
   "metadata": {},
   "outputs": [],
   "source": [
    "def schedule_out_func(workers, cache, av_mem, factor_node_dict, calculated_node_dict, dsk, global_dict):\n",
    "    # need to calculater\n",
    "    factor_node = set([k for k in factor_node_dict if factor_node_dict[k] is None])\n",
    "\n",
    "    if len(factor_node) == 0:\n",
    "        return []\n",
    "\n",
    "    workers_nodes = set([workers[k][0] for k in workers if workers[k] is not None])\n",
    "\n",
    "    def topoOrder():\n",
    "        topoQueue = []\n",
    "        q = list(factor_node - set(cache.keys()) - workers_nodes)\n",
    "\n",
    "        nodeList = set(dsk.keys()) - set(factor_node)\n",
    "        while len(q):\n",
    "            node, q = q[0], q[1:]\n",
    "\n",
    "            topoQueue.append(node)\n",
    "\n",
    "            append_nodes = [arg for arg in dsk[node][1:] if\n",
    "                            (arg in nodeList) and (arg not in cache.keys()) and (arg not in workers_nodes)]\n",
    "            nodeList = nodeList - set(append_nodes)\n",
    "            q = q + append_nodes\n",
    "        return topoQueue\n",
    "\n",
    "    topo_node = topoOrder()\n",
    "\n",
    "    def trash_cache():\n",
    "        trash_node = []\n",
    "\n",
    "        for node in cache:\n",
    "            isTrash = True\n",
    "            for tp_node in topo_node + list(workers_nodes):\n",
    "                if node in dsk[tp_node][1:]:\n",
    "                    isTrash = False\n",
    "                    break\n",
    "            if isTrash:\n",
    "                trash_node.append(node)\n",
    "        return trash_node\n",
    "\n",
    "    return trash_cache()"
   ]
  }
 ],
 "metadata": {
  "kernelspec": {
   "display_name": "Python 3 (ipykernel)",
   "language": "python",
   "name": "python3"
  },
  "language_info": {
   "codemirror_mode": {
    "name": "ipython",
    "version": 3
   },
   "file_extension": ".py",
   "mimetype": "text/x-python",
   "name": "python",
   "nbconvert_exporter": "python",
   "pygments_lexer": "ipython3",
   "version": "3.9.7"
  }
 },
 "nbformat": 4,
 "nbformat_minor": 5
}
