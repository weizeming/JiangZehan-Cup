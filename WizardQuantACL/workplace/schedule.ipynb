{
 "cells": [
  {
   "cell_type": "code",
   "execution_count": 160,
   "id": "12c1dcd7",
   "metadata": {},
   "outputs": [],
   "source": [
    "from ACLScheduleTest.Simulate import Simulator\n",
    "from ACLScheduleTest.Analysis import Analyst\n",
    "from ACLScheduleTest.data import RandomDsk\n",
    "import numpy as np\n",
    "from time import time\n",
    "\n",
    "rd = RandomDsk(\n",
    "    mute=True, node_num=100,\n",
    "    st_node_num=10,\n",
    "    min_time=1, time_lv=0, time_rv=0, min_time_step=0,\n",
    "    avg_mem_peek=1, mem_pv=0, mem_sv=1\n",
    ")\n",
    "dsk = rd.build()\n",
    "sim = Simulator()"
   ]
  },
  {
   "cell_type": "markdown",
   "source": [],
   "metadata": {
    "collapsed": false
   }
  },
  {
   "cell_type": "code",
   "execution_count": 161,
   "outputs": [],
   "source": [
    "num_workers, num_nodes = 10, 100\n",
    "\n",
    "information = np.ones((num_nodes, num_workers))\n",
    "def topoOrder(workers, cache, av_mem, factor_node_dict, calculated_node_dict, dsk, global_dict):\n",
    "    topoQueue = []\n",
    "    matrix = np.zeros((num_nodes, num_nodes))\n",
    "    nodeList = list(dsk.keys())\n",
    "    for idx, node in enumerate(nodeList):\n",
    "        for n in dsk[node][1:]:\n",
    "            if n in nodeList:\n",
    "                id = nodeList.index(n)\n",
    "                matrix[idx, id] = 1 # idx depends on id\n",
    "    while len(topoQueue) < len(nodeList):\n",
    "        for idx, node in enumerate(nodeList):\n",
    "            if node in topoQueue:\n",
    "                continue\n",
    "            if matrix[idx].sum() == 0:\n",
    "                topoQueue.append(node)\n",
    "                matrix[:, idx] = 0\n",
    "    return topoQueue\n"
   ],
   "metadata": {
    "collapsed": false,
    "pycharm": {
     "name": "#%%\n"
    }
   }
  },
  {
   "cell_type": "markdown",
   "source": [],
   "metadata": {
    "collapsed": false
   }
  },
  {
   "cell_type": "markdown",
   "source": [
    "## Ant as Agent"
   ],
   "metadata": {
    "collapsed": false
   }
  },
  {
   "cell_type": "code",
   "execution_count": 174,
   "outputs": [],
   "source": [
    "current_worker_id = 0\n",
    "iter = 0\n",
    "from schedule_func_backup import schedule_out_func\n",
    "def search():\n",
    "    global current_worker_id, iter\n",
    "    current_worker_id, iter = 0, 0\n",
    "    worker_schedules = []\n",
    "    for idx in range(num_workers):\n",
    "        worker_schedule = []\n",
    "        worker_schedules.append(worker_schedule)\n",
    "    for node_id in range(num_nodes):\n",
    "        prob = information[node_id] / information[node_id].sum()\n",
    "        select_worker = np.random.choice(range(num_workers), p=prob)\n",
    "        worker_schedules[select_worker].append(node_id)\n",
    "    print(worker_schedules)\n",
    "    def search_n_func(workers, cache, av_mem, factor_node_dict, calculated_node_dict, dsk, global_dict):\n",
    "        global current_worker_id, iter\n",
    "        if len(worker_schedules[current_worker_id])==0:\n",
    "            return None\n",
    "        node_id = worker_schedules[current_worker_id][0]\n",
    "        node = f'node{node_id}'\n",
    "        ori_id = current_worker_id\n",
    "        current_worker_id += 1\n",
    "        if current_worker_id >= num_workers:\n",
    "            current_worker_id = 0\n",
    "            iter += 1\n",
    "            print(f'\\niter {iter}')\n",
    "        #print(current_worker_id)\n",
    "        nodeList = set(dsk.keys())\n",
    "        #print(node)\n",
    "\n",
    "        pre_nodes = [arg for arg in dsk[node][1:] if arg in nodeList]\n",
    "        for arg in pre_nodes:\n",
    "            if arg in nodeList and arg not in cache.keys():\n",
    "                print('None')\n",
    "                return None\n",
    "        worker_schedules[ori_id].remove(node_id)\n",
    "        print(node)\n",
    "        return node\n",
    "    result = sim.simulate(search_n_func, schedule_out_func, mem_bound=50, worker_bound=10, rd=rd)\n",
    "    print(result)"
   ],
   "metadata": {
    "collapsed": false,
    "pycharm": {
     "name": "#%%\n"
    }
   }
  },
  {
   "cell_type": "markdown",
   "source": [
    "## Train"
   ],
   "metadata": {
    "collapsed": false
   }
  },
  {
   "cell_type": "code",
   "execution_count": 175,
   "outputs": [
    {
     "name": "stdout",
     "output_type": "stream",
     "text": [
      "[[6, 32, 35, 37, 49, 50, 57, 63, 66, 72, 76, 89, 90, 91, 98], [28, 34, 74, 87, 94], [14, 15, 16, 22, 24, 26, 40, 43, 48, 55, 83, 85, 93], [25, 33, 38, 69, 77, 82, 99], [41, 42, 45, 52, 53, 61, 67, 71, 97], [0, 1, 51, 54, 56, 80, 81], [4, 8, 21, 31, 60, 64, 75, 78], [2, 5, 7, 9, 10, 18, 19, 20, 23, 27, 30, 39, 47, 70, 73, 95], [3, 17, 36, 44, 46, 58, 59, 84, 86, 88, 92], [11, 12, 13, 29, 62, 65, 68, 79, 96]]\n",
      "node6\n",
      "None\n",
      "None\n",
      "None\n",
      "None\n",
      "node0\n",
      "node4\n",
      "node2\n",
      "node3\n",
      "\n",
      "iter 1\n",
      "None\n",
      "None\n",
      "None\n",
      "node14\n",
      "None\n",
      "None\n",
      "node1\n",
      "node8\n",
      "node5\n",
      "None\n",
      "\n",
      "iter 2\n",
      "None\n",
      "None\n",
      "None\n",
      "None\n",
      "None\n",
      "None\n",
      "None\n",
      "None\n",
      "node7\n",
      "node17\n",
      "\n",
      "iter 3\n",
      "None\n",
      "None\n",
      "None\n",
      "None\n",
      "None\n",
      "None\n",
      "None\n",
      "None\n",
      "node9\n",
      "None\n",
      "\n",
      "iter 4\n",
      "node11\n",
      "None\n",
      "None\n",
      "node15\n",
      "None\n",
      "None\n",
      "None\n",
      "node21\n",
      "node10\n",
      "None\n",
      "\n",
      "iter 5\n",
      "None\n",
      "None\n",
      "None\n",
      "node16\n",
      "None\n",
      "None\n",
      "None\n",
      "node31\n",
      "None\n",
      "None\n",
      "\n",
      "iter 6\n",
      "node12\n",
      "node32\n",
      "None\n",
      "node22\n",
      "node25\n",
      "None\n",
      "None\n",
      "None\n",
      "node18\n",
      "None\n",
      "\n",
      "iter 7\n",
      "node13\n",
      "None\n",
      "None\n",
      "node24\n",
      "node33\n",
      "None\n",
      "None\n",
      "None\n",
      "node19\n",
      "node36\n",
      "\n",
      "iter 8\n",
      "None\n",
      "None\n",
      "None\n",
      "None\n",
      "node38\n",
      "None\n",
      "node51\n",
      "None\n",
      "node20\n",
      "None\n",
      "\n",
      "iter 9\n",
      "node29\n",
      "node35\n",
      "None\n",
      "None\n",
      "None\n",
      "None\n",
      "None\n",
      "None\n",
      "node23\n",
      "None\n",
      "\n",
      "iter 10\n",
      "None\n",
      "node37\n",
      "None\n",
      "node26\n",
      "node69\n",
      "None\n",
      "None\n",
      "None\n",
      "node27\n",
      "None\n",
      "\n",
      "iter 11\n",
      "None\n",
      "None\n",
      "node28\n",
      "node40\n",
      "node77\n",
      "node41\n",
      "None\n",
      "None\n",
      "node30\n",
      "None\n",
      "\n",
      "iter 12\n",
      "None\n",
      "None\n",
      "node34\n",
      "node43\n",
      "node82\n",
      "node42\n",
      "None\n",
      "None\n",
      "node39\n",
      "node44\n",
      "\n",
      "iter 13\n",
      "None\n",
      "None\n",
      "None\n",
      "node48\n",
      "None\n",
      "node45\n",
      "node54\n",
      "None\n",
      "node47\n",
      "node46\n",
      "\n",
      "iter 14\n",
      "None\n",
      "node49\n",
      "None\n",
      "node55\n",
      "None\n",
      "node52\n",
      "None\n",
      "None\n",
      "None\n",
      "node58\n",
      "\n",
      "iter 15\n",
      "None\n",
      "node50\n",
      "node74\n",
      "None\n",
      "None\n",
      "node53\n",
      "node56\n",
      "None\n",
      "None\n",
      "node59\n",
      "\n",
      "iter 16\n",
      "node62\n",
      "node57\n",
      "None\n",
      "node83\n",
      "node99\n",
      "node61\n",
      "node80\n",
      "node60\n",
      "None\n",
      "node84\n",
      "\n",
      "iter 17\n",
      "node65\n",
      "node63\n",
      "node87\n",
      "node85\n",
      "({'worker_0': None, 'worker_1': None, 'worker_2': None, 'worker_3': None, 'worker_4': None, 'worker_5': None, 'worker_6': None, 'worker_7': None, 'worker_8': None, 'worker_9': None}, {'node2': 0.4425155457045506, 'node3': 0.04685273236134282, 'node8': 1.4449261107572688, 'node5': 0.8965205851057008, 'node7': 0.6822136554317009, 'node9': 0.47537574762536905, 'node21': 3.5140248611482336, 'node10': 1.8965205851057008, 'node25': 0.7359170797533834, 'node18': 1.2346363133683542, 'node13': 0.8259622602950457, 'node33': 0.6306889412219733, 'node38': -0.5061937395012683, 'node51': 1.4029103586662328, 'node29': 2.6179933721887236, 'node35': 5.6322846415882735, 'node23': 1.748652859999228, 'node27': 7.689633886749346, 'node41': 8.689633886749345, 'node30': 0.8570108760532185, 'node34': 1.8745732477415316, 'node82': 6.6322846415882735, 'node39': 8.207993791607795, 'node44': 2.824727190969476, 'node46': 5.917321257023171, 'node49': 16.47327807603761, 'node59': 0.726141435658732, 'node83': 1.7585671299641579, 'node65': 11.048928514371218, 'node63': 1.5734509427393062}, 20.0, {'node93': None, 'node72': None, 'node90': None, 'node76': None, 'node97': None, 'node74': 9.833316903932758, 'node96': None, 'node98': None, 'node62': -17.99430999352048, 'node95': None, 'node53': -5.281467505036323, 'node47': 8.689633886749345, 'node94': None, 'node77': 1.5855676778832979, 'node99': -10.936488716710654, 'node71': None, 'node68': None, 'node81': None, 'node69': 1.4986145194609044, 'node85': -1.7116732615913999, 'node75': None, 'node87': 1.1686779420680578, 'node73': None, 'node92': None, 'node78': None, 'node57': 4.313001814324665, 'node86': None, 'node70': None, 'node61': 8.83434586361963, 'node80': -4.013790927835519, 'node84': 0.9760151323990758, 'node91': None}, {'node0': True, 'node1': True, 'node2': True, 'node3': True, 'node4': True, 'node5': True, 'node6': True, 'node7': True, 'node8': True, 'node9': True, 'node10': True, 'node11': True, 'node12': True, 'node13': True, 'node14': True, 'node15': True, 'node16': True, 'node17': True, 'node18': True, 'node19': True, 'node20': True, 'node21': True, 'node22': True, 'node23': True, 'node24': True, 'node25': True, 'node26': True, 'node27': True, 'node28': True, 'node29': True, 'node30': True, 'node31': True, 'node32': True, 'node33': True, 'node34': True, 'node35': True, 'node36': True, 'node37': True, 'node38': True, 'node39': True, 'node40': True, 'node41': True, 'node42': True, 'node43': True, 'node44': True, 'node45': True, 'node46': True, 'node47': True, 'node48': True, 'node49': True, 'node50': True, 'node51': True, 'node52': True, 'node53': True, 'node54': True, 'node55': True, 'node56': True, 'node57': True, 'node58': True, 'node59': True, 'node60': True, 'node61': True, 'node62': True, 'node63': True, 'node64': False, 'node65': True, 'node66': False, 'node67': False, 'node68': False, 'node69': True, 'node70': False, 'node71': False, 'node72': False, 'node73': False, 'node74': True, 'node75': False, 'node76': False, 'node77': True, 'node78': False, 'node79': False, 'node80': True, 'node81': False, 'node82': True, 'node83': True, 'node84': True, 'node85': True, 'node86': False, 'node87': True, 'node88': False, 'node89': False, 'node90': False, 'node91': False, 'node92': False, 'node93': False, 'node94': False, 'node95': False, 'node96': False, 'node97': False, 'node98': False, 'node99': True}, {'node0': (<ACLScheduleTest.basic.Func object at 0x7faaf03a1f10>, 0.45652322031127435, 0.8366945818592777, 0.3215370966842571), 'node1': (<ACLScheduleTest.basic.Func object at 0x7faaf03a1610>, 0.8747685450025954), 'node2': (<ACLScheduleTest.basic.Func object at 0x7faaf03a1640>, 0.6586390878997692, 0.04966895077406275, 0.40980163326978336), 'node3': (<ACLScheduleTest.basic.Func object at 0x7faaf03a15e0>, 0.11364163237403091, 0.4122849292338173), 'node4': (<ACLScheduleTest.basic.Func object at 0x7faaf03a1fd0>, 0.8731683457394105, 0.6254170090520563, 0.6207520000679558), 'node5': (<ACLScheduleTest.basic.Func object at 0x7faaf03a1fa0>, 0.803749159518268), 'node6': (<ACLScheduleTest.basic.Func object at 0x7faaf03a1f40>, 0.6415965196864782, 0.08000793170820841, 0.3388038890032218), 'node7': (<ACLScheduleTest.basic.Func object at 0x7faaf03a1ee0>, 0.46541547165748354), 'node8': (<ACLScheduleTest.basic.Func object at 0x7faaf03a1e80>, 0.03367976052509214, 0.9261368041954826, 0.4851095460366941), 'node9': (<ACLScheduleTest.basic.Func object at 0x7faaf03a1e20>, 0.22598210143037856), 'node10': (<ACLScheduleTest.basic.Func object at 0x7faaf03a1d60>, 'node5'), 'node11': (<ACLScheduleTest.basic.Func object at 0x7faaf03a1d00>, 'node7', 'node5', 'node1'), 'node12': (<ACLScheduleTest.basic.Func object at 0x7faaf03a1ca0>, 'node10'), 'node13': (<ACLScheduleTest.basic.Func object at 0x7faaf03a1c40>, 'node7'), 'node14': (<ACLScheduleTest.basic.Func object at 0x7faaf03a1be0>, 'node6', 'node0'), 'node15': (<ACLScheduleTest.basic.Func object at 0x7faaf03a1b20>, 'node11'), 'node16': (<ACLScheduleTest.basic.Func object at 0x7faaf03a1ac0>, 'node11'), 'node17': (<ACLScheduleTest.basic.Func object at 0x7faaf03a1a60>, 'node3', 'node8'), 'node18': (<ACLScheduleTest.basic.Func object at 0x7faaf03a1a00>, 'node12', 'node5'), 'node19': (<ACLScheduleTest.basic.Func object at 0x7faaf03a19a0>, 'node10', 'node12'), 'node20': (<ACLScheduleTest.basic.Func object at 0x7faaf03a1940>, 'node3', 'node8'), 'node21': (<ACLScheduleTest.basic.Func object at 0x7faaf03a16a0>, 'node11'), 'node22': (<ACLScheduleTest.basic.Func object at 0x7faaf03a1700>, 'node15'), 'node23': (<ACLScheduleTest.basic.Func object at 0x7faaf03a1760>, 'node7', 'node6'), 'node24': (<ACLScheduleTest.basic.Func object at 0x7faaf03a14f0>, 'node17'), 'node25': (<ACLScheduleTest.basic.Func object at 0x7faaf03a1dc0>, 'node4', 'node16'), 'node26': (<ACLScheduleTest.basic.Func object at 0x7faaf03a1b80>, 'node23', 'node16', 'node22'), 'node27': (<ACLScheduleTest.basic.Func object at 0x7faaf039d6a0>, 'node22', 'node0'), 'node28': (<ACLScheduleTest.basic.Func object at 0x7faaf039d250>, 'node5', 'node26', 'node23'), 'node29': (<ACLScheduleTest.basic.Func object at 0x7faaf03777f0>, 'node16', 'node24'), 'node30': (<ACLScheduleTest.basic.Func object at 0x7faaf03776d0>, 'node4'), 'node31': (<ACLScheduleTest.basic.Func object at 0x7faaf0377a30>, 'node0', 'node8', 'node7'), 'node32': (<ACLScheduleTest.basic.Func object at 0x7faaf03b14c0>, 'node15', 'node31'), 'node33': (<ACLScheduleTest.basic.Func object at 0x7faaf03b1070>, 'node16'), 'node34': (<ACLScheduleTest.basic.Func object at 0x7faaf03b1160>, 'node21'), 'node35': (<ACLScheduleTest.basic.Func object at 0x7faaf03b1c10>, 'node21', 'node20', 'node6'), 'node36': (<ACLScheduleTest.basic.Func object at 0x7faaf03b1850>, 'node0', 'node22'), 'node37': (<ACLScheduleTest.basic.Func object at 0x7faaf03b1700>, 'node25', 'node12', 'node2'), 'node38': (<ACLScheduleTest.basic.Func object at 0x7faaf859bcd0>, 'node12', 'node33', 'node11'), 'node39': (<ACLScheduleTest.basic.Func object at 0x7faaf859b5b0>, 'node31', 'node16'), 'node40': (<ACLScheduleTest.basic.Func object at 0x7faaf037f5b0>, 'node31', 'node32', 'node8'), 'node41': (<ACLScheduleTest.basic.Func object at 0x7faaf037ff10>, 'node27'), 'node42': (<ACLScheduleTest.basic.Func object at 0x7faaf036fd00>, 'node3', 'node28'), 'node43': (<ACLScheduleTest.basic.Func object at 0x7faaf036f0d0>, 'node36'), 'node44': (<ACLScheduleTest.basic.Func object at 0x7faaf036f250>, 'node24', 'node1', 'node30'), 'node45': (<ACLScheduleTest.basic.Func object at 0x7faaf036f520>, 'node4'), 'node46': (<ACLScheduleTest.basic.Func object at 0x7faaf036f220>, 'node26', 'node33'), 'node47': (<ACLScheduleTest.basic.Func object at 0x7faaf859db50>, 'node27'), 'node48': (<ACLScheduleTest.basic.Func object at 0x7faaf859df10>, 'node27', 'node40'), 'node49': (<ACLScheduleTest.basic.Func object at 0x7faaf859da30>, 'node48', 'node3', 'node27'), 'node50': (<ACLScheduleTest.basic.Func object at 0x7faaf8581100>, 'node37'), 'node51': (<ACLScheduleTest.basic.Func object at 0x7faaf85814f0>, 'node24', 'node25'), 'node52': (<ACLScheduleTest.basic.Func object at 0x7faaf85812b0>, 'node14', 'node30'), 'node53': (<ACLScheduleTest.basic.Func object at 0x7faaf03a04c0>, 'node30', 'node38', 'node35'), 'node54': (<ACLScheduleTest.basic.Func object at 0x7faaf03a0b20>, 'node40', 'node42'), 'node55': (<ACLScheduleTest.basic.Func object at 0x7faaf03a0430>, 'node15', 'node26', 'node37'), 'node56': (<ACLScheduleTest.basic.Func object at 0x7faaf03a0490>, 'node31', 'node52', 'node39'), 'node57': (<ACLScheduleTest.basic.Func object at 0x7faaf03a0850>, 'node36', 'node26', 'node51'), 'node58': (<ACLScheduleTest.basic.Func object at 0x7faaf03a0ac0>, 'node36'), 'node59': (<ACLScheduleTest.basic.Func object at 0x7faaf03a08e0>, 'node19'), 'node60': (<ACLScheduleTest.basic.Func object at 0x7faaf03a0d00>, 'node5', 'node56'), 'node61': (<ACLScheduleTest.basic.Func object at 0x7faaf03a0f40>, 'node22', 'node21'), 'node62': (<ACLScheduleTest.basic.Func object at 0x7faaf03a0eb0>, 'node32', 'node28', 'node58'), 'node63': (<ACLScheduleTest.basic.Func object at 0x7faaf03a0df0>, 'node30', 'node43'), 'node64': (<ACLScheduleTest.basic.Func object at 0x7faaf03a0be0>, 'node10'), 'node65': (<ACLScheduleTest.basic.Func object at 0x7faaf03a0af0>, 'node28', 'node45', 'node27'), 'node66': (<ACLScheduleTest.basic.Func object at 0x7faaf03a0340>, 'node65'), 'node67': (<ACLScheduleTest.basic.Func object at 0x7faaf03a03a0>, 'node30', 'node7', 'node21'), 'node68': (<ACLScheduleTest.basic.Func object at 0x7fab0ab53040>, 'node29', 'node39'), 'node69': (<ACLScheduleTest.basic.Func object at 0x7fab0ab53eb0>, 'node23', 'node4'), 'node70': (<ACLScheduleTest.basic.Func object at 0x7faaf8598550>, 'node30', 'node64'), 'node71': (<ACLScheduleTest.basic.Func object at 0x7faaf8598eb0>, 'node34'), 'node72': (<ACLScheduleTest.basic.Func object at 0x7faaf8598400>, 'node51', 'node3', 'node59'), 'node73': (<ACLScheduleTest.basic.Func object at 0x7faaf03b7400>, 'node2', 'node27'), 'node74': (<ACLScheduleTest.basic.Func object at 0x7faaf03b7370>, 'node55', 'node12'), 'node75': (<ACLScheduleTest.basic.Func object at 0x7faaf03b7160>, 'node21', 'node49', 'node18'), 'node76': (<ACLScheduleTest.basic.Func object at 0x7faaf03b7190>, 'node7', 'node38'), 'node77': (<ACLScheduleTest.basic.Func object at 0x7faaf03b71c0>, 'node11'), 'node78': (<ACLScheduleTest.basic.Func object at 0x7faaf03b73a0>, 'node63', 'node8', 'node23'), 'node79': (<ACLScheduleTest.basic.Func object at 0x7fab0ab6d580>, 'node5', 'node21', 'node66'), 'node80': (<ACLScheduleTest.basic.Func object at 0x7fab0ab6dc40>, 'node54'), 'node81': (<ACLScheduleTest.basic.Func object at 0x7fab0ab6d7f0>, 'node2', 'node13'), 'node82': (<ACLScheduleTest.basic.Func object at 0x7fab0ab6d670>, 'node35'), 'node83': (<ACLScheduleTest.basic.Func object at 0x7fab0ab6d310>, 'node24', 'node59'), 'node84': (<ACLScheduleTest.basic.Func object at 0x7fab0ab6d520>, 'node7', 'node24', 'node21'), 'node85': (<ACLScheduleTest.basic.Func object at 0x7fab0ab6d160>, 'node31', 'node54', 'node34'), 'node86': (<ACLScheduleTest.basic.Func object at 0x7fab0ab6d0d0>, 'node35'), 'node87': (<ACLScheduleTest.basic.Func object at 0x7fab0ab6dd30>, 'node60', 'node50', 'node7'), 'node88': (<ACLScheduleTest.basic.Func object at 0x7fab0ab6d9a0>, 'node30'), 'node89': (<ACLScheduleTest.basic.Func object at 0x7fab0ab6d8e0>, 'node46', 'node10', 'node25'), 'node90': (<ACLScheduleTest.basic.Func object at 0x7fab0ab6d5b0>, 'node88', 'node44'), 'node91': (<ACLScheduleTest.basic.Func object at 0x7fab0ab6d4c0>, 'node89'), 'node92': (<ACLScheduleTest.basic.Func object at 0x7fab0ab6d5e0>, 'node41', 'node82'), 'node93': (<ACLScheduleTest.basic.Func object at 0x7fab0ab6d9d0>, 'node33'), 'node94': (<ACLScheduleTest.basic.Func object at 0x7faaf035db80>, 'node30', 'node83'), 'node95': (<ACLScheduleTest.basic.Func object at 0x7faaf035dca0>, 'node67'), 'node96': (<ACLScheduleTest.basic.Func object at 0x7faaf035da60>, 'node27', 'node79'), 'node97': (<ACLScheduleTest.basic.Func object at 0x7faaf035d5b0>, 'node5', 'node8'), 'node98': (<ACLScheduleTest.basic.Func object at 0x7faaf035df10>, 'node9', 'node8'), 'node99': (<ACLScheduleTest.basic.Func object at 0x7faaf035d8b0>, 'node56', 'node49')}, {})\n"
     ]
    }
   ],
   "source": [
    "def train(num_epochs, num_agent):\n",
    "    for epoch in range(num_epochs):\n",
    "        for agent_idx in range(num_agent):\n",
    "            search()\n",
    "train(1,1)"
   ],
   "metadata": {
    "collapsed": false,
    "pycharm": {
     "name": "#%%\n"
    }
   }
  },
  {
   "cell_type": "markdown",
   "id": "02f87860",
   "metadata": {},
   "source": [
    "## schedule_in_func "
   ]
  },
  {
   "cell_type": "code",
   "execution_count": 157,
   "id": "e05501ea",
   "metadata": {},
   "outputs": [],
   "source": []
  },
  {
   "cell_type": "markdown",
   "id": "21282720",
   "metadata": {},
   "source": [
    "## schedule_out_func"
   ]
  },
  {
   "cell_type": "code",
   "execution_count": 132,
   "id": "5bdcb311",
   "metadata": {},
   "outputs": [],
   "source": []
  },
  {
   "cell_type": "code",
   "execution_count": 132,
   "outputs": [],
   "source": [],
   "metadata": {
    "collapsed": false,
    "pycharm": {
     "name": "#%%\n"
    }
   }
  },
  {
   "cell_type": "code",
   "execution_count": 132,
   "outputs": [],
   "source": [],
   "metadata": {
    "collapsed": false,
    "pycharm": {
     "name": "#%%\n"
    }
   }
  },
  {
   "cell_type": "code",
   "execution_count": 132,
   "outputs": [],
   "source": [],
   "metadata": {
    "collapsed": false,
    "pycharm": {
     "name": "#%%\n"
    }
   }
  },
  {
   "cell_type": "code",
   "execution_count": null,
   "outputs": [],
   "source": [],
   "metadata": {
    "collapsed": false,
    "pycharm": {
     "name": "#%%\n"
    }
   }
  }
 ],
 "metadata": {
  "kernelspec": {
   "display_name": "Python 3 (ipykernel)",
   "language": "python",
   "name": "python3"
  },
  "language_info": {
   "codemirror_mode": {
    "name": "ipython",
    "version": 3
   },
   "file_extension": ".py",
   "mimetype": "text/x-python",
   "name": "python",
   "nbconvert_exporter": "python",
   "pygments_lexer": "ipython3",
   "version": "3.9.7"
  }
 },
 "nbformat": 4,
 "nbformat_minor": 5
}