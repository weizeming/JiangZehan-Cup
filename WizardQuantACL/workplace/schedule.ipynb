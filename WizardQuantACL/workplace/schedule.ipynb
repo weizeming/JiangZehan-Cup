{
 "cells": [
  {
   "cell_type": "code",
   "execution_count": 133,
   "id": "12c1dcd7",
   "metadata": {},
   "outputs": [],
   "source": [
    "from ACLScheduleTest.Simulate import Simulator\n",
    "from ACLScheduleTest.Analysis import Analyst\n",
    "from ACLScheduleTest.data import RandomDsk\n",
    "import numpy as np\n",
    "from time import time\n",
    "\n",
    "rd = RandomDsk(\n",
    "    mute=True, node_num=100,\n",
    "    st_node_num=10,\n",
    "    min_time=1, time_lv=0, time_rv=0, min_time_step=0,\n",
    "    avg_mem_peek=1, mem_pv=0, mem_sv=1\n",
    ")\n",
    "dsk = rd.build()\n",
    "sim = Simulator()"
   ]
  },
  {
   "cell_type": "markdown",
   "source": [],
   "metadata": {
    "collapsed": false
   }
  },
  {
   "cell_type": "code",
   "execution_count": 134,
   "outputs": [],
   "source": [
    "num_workers, num_nodes = 10, 100\n",
    "\n",
    "information = np.ones((num_nodes, num_workers))\n",
    "def topoOrder(workers, cache, av_mem, factor_node_dict, calculated_node_dict, dsk, global_dict):\n",
    "    topoQueue = []\n",
    "    matrix = np.zeros((num_nodes, num_nodes))\n",
    "    nodeList = list(dsk.keys())\n",
    "    for idx, node in enumerate(nodeList):\n",
    "        for n in dsk[node][1:]:\n",
    "            if n in nodeList:\n",
    "                id = nodeList.index(n)\n",
    "                matrix[idx, id] = 1 # idx depends on id\n",
    "    while len(topoQueue) < len(nodeList):\n",
    "        for idx, node in enumerate(nodeList):\n",
    "            if node in topoQueue:\n",
    "                continue\n",
    "            if matrix[idx].sum() == 0:\n",
    "                topoQueue.append(node)\n",
    "                matrix[:, idx] = 0\n",
    "    return topoQueue\n"
   ],
   "metadata": {
    "collapsed": false,
    "pycharm": {
     "name": "#%%\n"
    }
   }
  },
  {
   "cell_type": "markdown",
   "source": [],
   "metadata": {
    "collapsed": false
   }
  },
  {
   "cell_type": "markdown",
   "source": [
    "## Ant as Agent"
   ],
   "metadata": {
    "collapsed": false
   }
  },
  {
   "cell_type": "code",
   "execution_count": 155,
   "outputs": [],
   "source": [
    "current_worker_id = 0\n",
    "iter = 0\n",
    "from schedule_func_backup import schedule_out_func\n",
    "def search():\n",
    "    global current_worker_id, iter\n",
    "    current_worker_id, iter = 0, 0\n",
    "    worker_schedules = []\n",
    "    for idx in range(num_workers):\n",
    "        worker_schedule = []\n",
    "        worker_schedules.append(worker_schedule)\n",
    "    for node_id in range(num_nodes):\n",
    "        prob = information[node_id] / information[node_id].sum()\n",
    "        select_worker = np.random.choice(range(num_workers), p=prob)\n",
    "        worker_schedules[select_worker].append(node_id)\n",
    "    print(worker_schedules)\n",
    "    def search_n_func(workers, cache, av_mem, factor_node_dict, calculated_node_dict, dsk, global_dict):\n",
    "        global current_worker_id, iter\n",
    "        if len(worker_schedules[current_worker_id])==0:\n",
    "            return None\n",
    "        node_id = worker_schedules[current_worker_id][0]\n",
    "        node = f'node{node_id}'\n",
    "\n",
    "        worker_schedules[current_worker_id].remove(node_id)\n",
    "        current_worker_id += 1\n",
    "        if current_worker_id >= num_workers:\n",
    "            current_worker_id = 0\n",
    "            iter += 1\n",
    "            print(f'\\niter {iter}')\n",
    "        #print(current_worker_id)\n",
    "        nodeList = set(dsk.keys())\n",
    "        #print(node)\n",
    "\n",
    "        pre_nodes = [arg for arg in dsk[node][1:] if arg in nodeList]\n",
    "        for arg in pre_nodes:\n",
    "            if arg in nodeList and arg not in cache.keys():\n",
    "                print('None')\n",
    "                return None\n",
    "        print(node)\n",
    "        return node\n",
    "    result = sim.simulate(search_n_func, schedule_out_func, mem_bound=50, worker_bound=10, rd=rd)\n",
    "    print(result)"
   ],
   "metadata": {
    "collapsed": false,
    "pycharm": {
     "name": "#%%\n"
    }
   }
  },
  {
   "cell_type": "markdown",
   "source": [
    "## Train"
   ],
   "metadata": {
    "collapsed": false
   }
  },
  {
   "cell_type": "code",
   "execution_count": 157,
   "outputs": [
    {
     "name": "stdout",
     "output_type": "stream",
     "text": [
      "[[5, 26, 27, 28, 32, 33, 36, 40, 49, 51, 52, 66, 84, 89, 98], [12, 18, 22, 42, 45, 59, 67, 93, 99], [2, 6, 15, 29, 38, 44, 72, 73, 86, 91, 92], [13, 30, 47, 57, 77, 79, 85, 95], [1, 8, 9, 11, 14, 16, 25, 37, 61, 63, 88, 94], [31, 65, 69, 70, 80, 81], [7, 20, 23, 55, 56, 64, 75, 78, 82, 83, 87, 90], [3, 34, 41, 43, 50, 53, 54, 74, 97], [0, 4, 10, 39, 46, 48, 62, 68, 71], [17, 19, 21, 24, 35, 58, 60, 76, 96]]\n",
      "node5\n",
      "None\n",
      "node2\n",
      "None\n",
      "node1\n",
      "None\n",
      "node7\n",
      "node3\n",
      "node0\n",
      "\n",
      "iter 1\n",
      "None\n",
      "None\n",
      "None\n",
      "node6\n",
      "None\n",
      "node8\n",
      "None\n",
      "None\n",
      "None\n",
      "node4\n",
      "\n",
      "iter 2\n",
      "None\n",
      "None\n",
      "node22\n",
      "None\n",
      "None\n",
      "node9\n",
      "None\n",
      "node23\n",
      "node41\n",
      "node10\n",
      "\n",
      "iter 3\n",
      "node21\n",
      "None\n",
      "None\n",
      "None\n",
      "None\n",
      "node11\n",
      "node70\n",
      "None\n",
      "None\n",
      "None\n",
      "\n",
      "iter 4\n",
      "None\n",
      "node32\n",
      "node45\n",
      "node38\n",
      "None\n",
      "node14\n",
      "None\n",
      "None\n",
      "None\n",
      "None\n",
      "\n",
      "iter 5\n",
      "None\n",
      "None\n",
      "None\n",
      "node44\n",
      "None\n",
      "node16\n",
      "None\n",
      "None\n",
      "None\n",
      "None\n",
      "\n",
      "iter 6\n",
      "None\n",
      "None\n",
      "None\n",
      "None\n",
      "None\n",
      "None\n",
      "({'worker_0': None, 'worker_1': None, 'worker_2': None, 'worker_3': None, 'worker_4': None, 'worker_5': None, 'worker_6': None, 'worker_7': None, 'worker_8': None, 'worker_9': None}, {'node5': 0.5790150536254056, 'node2': 1.7100165324406276, 'node1': 23.723312767097088, 'node7': 1.230201485014066, 'node3': 1.9107495026219043, 'node0': 0.7412999595697648, 'node6': 0.03920324851052737, 'node8': 0.6314536609013277, 'node4': -0.23092053429761583, 'node22': 0.0677067863176662, 'node9': 0.5741490911293471, 'node23': 1.3822986300441393, 'node41': 4.870658350479644, 'node10': 0.36562117532874094, 'node21': -0.44123129605435385, 'node11': 0.7690794657023842, 'node32': 1.7009636973483744, 'node45': 1.3076760043835887, 'node38': 22.378917409985203, 'node14': -0.5349458426188197, 'node44': 1.6332569110307082, 'node16': -0.3097416957506237}, 28.0, {'node93': None, 'node72': None, 'node90': None, 'node97': None, 'node88': None, 'node74': None, 'node89': None, 'node42': None, 'node96': None, 'node98': None, 'node67': None, 'node37': None, 'node95': None, 'node50': None, 'node53': None, 'node77': None, 'node12': None, 'node99': None, 'node79': None, 'node83': None, 'node68': None, 'node59': None, 'node85': None, 'node33': None, 'node87': None, 'node92': None, 'node78': None, 'node57': None, 'node86': None, 'node70': 2.289031586066033, 'node80': None, 'node84': None}, {'node0': True, 'node1': True, 'node2': True, 'node3': True, 'node4': True, 'node5': True, 'node6': True, 'node7': True, 'node8': True, 'node9': True, 'node10': True, 'node11': True, 'node12': False, 'node13': False, 'node14': True, 'node15': False, 'node16': True, 'node17': False, 'node18': False, 'node19': False, 'node20': False, 'node21': True, 'node22': True, 'node23': True, 'node24': False, 'node25': False, 'node26': False, 'node27': False, 'node28': False, 'node29': False, 'node30': False, 'node31': False, 'node32': True, 'node33': False, 'node34': False, 'node35': False, 'node36': False, 'node37': False, 'node38': True, 'node39': False, 'node40': False, 'node41': True, 'node42': False, 'node43': False, 'node44': True, 'node45': True, 'node46': False, 'node47': False, 'node48': False, 'node49': False, 'node50': False, 'node51': False, 'node52': False, 'node53': False, 'node54': False, 'node55': False, 'node56': False, 'node57': False, 'node58': False, 'node59': False, 'node60': False, 'node61': False, 'node62': False, 'node63': False, 'node64': False, 'node65': False, 'node66': False, 'node67': False, 'node68': False, 'node69': False, 'node70': True, 'node71': False, 'node72': False, 'node73': False, 'node74': False, 'node75': False, 'node76': False, 'node77': False, 'node78': False, 'node79': False, 'node80': False, 'node81': False, 'node82': False, 'node83': False, 'node84': False, 'node85': False, 'node86': False, 'node87': False, 'node88': False, 'node89': False, 'node90': False, 'node91': False, 'node92': False, 'node93': False, 'node94': False, 'node95': False, 'node96': False, 'node97': False, 'node98': False, 'node99': False}, {'node0': (<ACLScheduleTest.basic.Func object at 0x7faaf859bb50>, 0.24798570679236687, 0.49331425277739793), 'node1': (<ACLScheduleTest.basic.Func object at 0x7faaf859bdc0>, 0.04215262892739602), 'node2': (<ACLScheduleTest.basic.Func object at 0x7faaf859b880>, 0.5847896678359865), 'node3': (<ACLScheduleTest.basic.Func object at 0x7faaf859b4f0>, 0.835743126717858, 0.8340579035553317, 0.24094847234871453), 'node4': (<ACLScheduleTest.basic.Func object at 0x7faaf859bc10>, 0.33877042118715883, 0.5696909554847747), 'node5': (<ACLScheduleTest.basic.Func object at 0x7faaf859be50>, 0.3352584323248313), 'node6': (<ACLScheduleTest.basic.Func object at 0x7faaf859b400>, 0.11611882141436647, 0.3376132140596896), 'node7': (<ACLScheduleTest.basic.Func object at 0x7faaf859b430>, 0.635832810355007, 0.5943686746590588), 'node8': (<ACLScheduleTest.basic.Func object at 0x7faaf859b3d0>, 0.5215801389719205, 0.1240608978819675, 0.5667459605430699), 'node9': (<ACLScheduleTest.basic.Func object at 0x7faaf859bc40>, 0.47795731502040883, 0.8324620249424592), 'node10': (<ACLScheduleTest.basic.Func object at 0x7faaf859b1f0>, 'node5', 'node8'), 'node11': (<ACLScheduleTest.basic.Func object at 0x7faaf859b340>, 'node4'), 'node12': (<ACLScheduleTest.basic.Func object at 0x7faaf859b670>, 'node4'), 'node13': (<ACLScheduleTest.basic.Func object at 0x7faaf859b970>, 'node6'), 'node14': (<ACLScheduleTest.basic.Func object at 0x7faaf859b700>, 'node6', 'node9'), 'node15': (<ACLScheduleTest.basic.Func object at 0x7faaf859b4c0>, 'node13'), 'node16': (<ACLScheduleTest.basic.Func object at 0x7faaf859ba30>, 'node14', 'node5'), 'node17': (<ACLScheduleTest.basic.Func object at 0x7faaf859bac0>, 'node11'), 'node18': (<ACLScheduleTest.basic.Func object at 0x7faaf859bfa0>, 'node15', 'node14', 'node11'), 'node19': (<ACLScheduleTest.basic.Func object at 0x7faaf859b250>, 'node8'), 'node20': (<ACLScheduleTest.basic.Func object at 0x7faaf859b2b0>, 'node3', 'node7', 'node18'), 'node21': (<ACLScheduleTest.basic.Func object at 0x7faaf859b940>, 'node3', 'node4'), 'node22': (<ACLScheduleTest.basic.Func object at 0x7faaf859be80>, 'node6', 'node5'), 'node23': (<ACLScheduleTest.basic.Func object at 0x7faaf859b820>, 'node3'), 'node24': (<ACLScheduleTest.basic.Func object at 0x7faaf859bee0>, 'node15'), 'node25': (<ACLScheduleTest.basic.Func object at 0x7faaf859be20>, 'node15'), 'node26': (<ACLScheduleTest.basic.Func object at 0x7faaf859ba60>, 'node3', 'node14'), 'node27': (<ACLScheduleTest.basic.Func object at 0x7faaf859b490>, 'node22', 'node25'), 'node28': (<ACLScheduleTest.basic.Func object at 0x7faaf859cfd0>, 'node9', 'node17'), 'node29': (<ACLScheduleTest.basic.Func object at 0x7faaf859ca90>, 'node27', 'node16'), 'node30': (<ACLScheduleTest.basic.Func object at 0x7faaf859cc10>, 'node10'), 'node31': (<ACLScheduleTest.basic.Func object at 0x7faaf859c8e0>, 'node28'), 'node32': (<ACLScheduleTest.basic.Func object at 0x7faaf859caf0>, 'node4', 'node6', 'node2'), 'node33': (<ACLScheduleTest.basic.Func object at 0x7faaf859c490>, 'node18', 'node26'), 'node34': (<ACLScheduleTest.basic.Func object at 0x7faaf859cca0>, 'node25', 'node31', 'node4'), 'node35': (<ACLScheduleTest.basic.Func object at 0x7faaf859cc40>, 'node5', 'node18', 'node28'), 'node36': (<ACLScheduleTest.basic.Func object at 0x7faaf859c7f0>, 'node14', 'node31', 'node9'), 'node37': (<ACLScheduleTest.basic.Func object at 0x7faaf859cb50>, 'node3'), 'node38': (<ACLScheduleTest.basic.Func object at 0x7faaf859cfa0>, 'node10', 'node1', 'node2'), 'node39': (<ACLScheduleTest.basic.Func object at 0x7faaf859c520>, 'node9', 'node3', 'node24'), 'node40': (<ACLScheduleTest.basic.Func object at 0x7fab0ab36a30>, 'node6'), 'node41': (<ACLScheduleTest.basic.Func object at 0x7fab0ab6f6d0>, 'node1'), 'node42': (<ACLScheduleTest.basic.Func object at 0x7faaf856d970>, 'node8', 'node15'), 'node43': (<ACLScheduleTest.basic.Func object at 0x7faaf856d760>, 'node13', 'node26', 'node11'), 'node44': (<ACLScheduleTest.basic.Func object at 0x7faaf856d280>, 'node32', 'node22'), 'node45': (<ACLScheduleTest.basic.Func object at 0x7faaf856ddc0>, 'node2'), 'node46': (<ACLScheduleTest.basic.Func object at 0x7faaf856d910>, 'node20', 'node27', 'node4'), 'node47': (<ACLScheduleTest.basic.Func object at 0x7faaf856d850>, 'node19', 'node30', 'node40'), 'node48': (<ACLScheduleTest.basic.Func object at 0x7faaf856dd00>, 'node38', 'node15'), 'node49': (<ACLScheduleTest.basic.Func object at 0x7faaf856dfa0>, 'node36'), 'node50': (<ACLScheduleTest.basic.Func object at 0x7faaf856d670>, 'node14', 'node35', 'node3'), 'node51': (<ACLScheduleTest.basic.Func object at 0x7faaf856d2e0>, 'node21'), 'node52': (<ACLScheduleTest.basic.Func object at 0x7faaf856d190>, 'node16', 'node22'), 'node53': (<ACLScheduleTest.basic.Func object at 0x7faaf856dbe0>, 'node17', 'node0'), 'node54': (<ACLScheduleTest.basic.Func object at 0x7faaf856d9d0>, 'node48', 'node0'), 'node55': (<ACLScheduleTest.basic.Func object at 0x7faaf856ddf0>, 'node16'), 'node56': (<ACLScheduleTest.basic.Func object at 0x7faaf856de20>, 'node27'), 'node57': (<ACLScheduleTest.basic.Func object at 0x7faaf856de80>, 'node34', 'node46', 'node5'), 'node58': (<ACLScheduleTest.basic.Func object at 0x7faaf856dcd0>, 'node26'), 'node59': (<ACLScheduleTest.basic.Func object at 0x7faaf856d580>, 'node28', 'node38'), 'node60': (<ACLScheduleTest.basic.Func object at 0x7faaf856dee0>, 'node3', 'node6', 'node45'), 'node61': (<ACLScheduleTest.basic.Func object at 0x7faaf856d0a0>, 'node5', 'node40'), 'node62': (<ACLScheduleTest.basic.Func object at 0x7faaf856d9a0>, 'node27', 'node60', 'node49'), 'node63': (<ACLScheduleTest.basic.Func object at 0x7faaf856d4f0>, 'node52', 'node55', 'node1'), 'node64': (<ACLScheduleTest.basic.Func object at 0x7faaf856dc10>, 'node51', 'node40'), 'node65': (<ACLScheduleTest.basic.Func object at 0x7faaf856d820>, 'node44', 'node64'), 'node66': (<ACLScheduleTest.basic.Func object at 0x7faaf856d3d0>, 'node49', 'node29', 'node46'), 'node67': (<ACLScheduleTest.basic.Func object at 0x7faaf856df70>, 'node11', 'node17', 'node35'), 'node68': (<ACLScheduleTest.basic.Func object at 0x7faaf856d040>, 'node25'), 'node69': (<ACLScheduleTest.basic.Func object at 0x7faaf856d340>, 'node14', 'node41', 'node17'), 'node70': (<ACLScheduleTest.basic.Func object at 0x7faaf856d0d0>, 'node5', 'node2'), 'node71': (<ACLScheduleTest.basic.Func object at 0x7faaf856da90>, 'node60'), 'node72': (<ACLScheduleTest.basic.Func object at 0x7faaf856d550>, 'node61', 'node29', 'node54'), 'node73': (<ACLScheduleTest.basic.Func object at 0x7faaf856db50>, 'node35'), 'node74': (<ACLScheduleTest.basic.Func object at 0x7faaf856d1f0>, 'node6', 'node71', 'node30'), 'node75': (<ACLScheduleTest.basic.Func object at 0x7faaf856d6a0>, 'node44', 'node20'), 'node76': (<ACLScheduleTest.basic.Func object at 0x7faaf856d160>, 'node0'), 'node77': (<ACLScheduleTest.basic.Func object at 0x7faaf856da60>, 'node7', 'node5', 'node56'), 'node78': (<ACLScheduleTest.basic.Func object at 0x7faad80147f0>, 'node64', 'node23'), 'node79': (<ACLScheduleTest.basic.Func object at 0x7faaf85208b0>, 'node35', 'node25'), 'node80': (<ACLScheduleTest.basic.Func object at 0x7faaf8520be0>, 'node43'), 'node81': (<ACLScheduleTest.basic.Func object at 0x7faaf8520970>, 'node14', 'node66'), 'node82': (<ACLScheduleTest.basic.Func object at 0x7fab0ab78eb0>, 'node58'), 'node83': (<ACLScheduleTest.basic.Func object at 0x7fab0ab781c0>, 'node14', 'node56', 'node29'), 'node84': (<ACLScheduleTest.basic.Func object at 0x7fab0ab78280>, 'node0', 'node39', 'node82'), 'node85': (<ACLScheduleTest.basic.Func object at 0x7fab0ab78d30>, 'node60'), 'node86': (<ACLScheduleTest.basic.Func object at 0x7fab0ab78af0>, 'node0', 'node47', 'node27'), 'node87': (<ACLScheduleTest.basic.Func object at 0x7faaf8583070>, 'node22', 'node73', 'node29'), 'node88': (<ACLScheduleTest.basic.Func object at 0x7faaf8583760>, 'node14', 'node73', 'node19'), 'node89': (<ACLScheduleTest.basic.Func object at 0x7faaf8583820>, 'node2', 'node62', 'node24'), 'node90': (<ACLScheduleTest.basic.Func object at 0x7faaf8583640>, 'node60', 'node66', 'node19'), 'node91': (<ACLScheduleTest.basic.Func object at 0x7faaf8583910>, 'node38', 'node49', 'node63'), 'node92': (<ACLScheduleTest.basic.Func object at 0x7faaf8583ca0>, 'node54', 'node76'), 'node93': (<ACLScheduleTest.basic.Func object at 0x7faae8b84070>, 'node46', 'node15', 'node69'), 'node94': (<ACLScheduleTest.basic.Func object at 0x7fab0ac0c6d0>, 'node58', 'node52'), 'node95': (<ACLScheduleTest.basic.Func object at 0x7faaf8581580>, 'node65', 'node94'), 'node96': (<ACLScheduleTest.basic.Func object at 0x7faaf85812b0>, 'node91', 'node41'), 'node97': (<ACLScheduleTest.basic.Func object at 0x7faaf8581460>, 'node7', 'node81'), 'node98': (<ACLScheduleTest.basic.Func object at 0x7faaf8581340>, 'node10', 'node32'), 'node99': (<ACLScheduleTest.basic.Func object at 0x7faaf85613d0>, 'node75')}, {})\n"
     ]
    }
   ],
   "source": [
    "def train(num_epochs, num_agent):\n",
    "    for epoch in range(num_epochs):\n",
    "        for agent_idx in range(num_agent):\n",
    "            search()\n",
    "train(1,1)"
   ],
   "metadata": {
    "collapsed": false,
    "pycharm": {
     "name": "#%%\n"
    }
   }
  },
  {
   "cell_type": "markdown",
   "id": "02f87860",
   "metadata": {},
   "source": [
    "## schedule_in_func "
   ]
  },
  {
   "cell_type": "code",
   "execution_count": 157,
   "id": "e05501ea",
   "metadata": {},
   "outputs": [],
   "source": []
  },
  {
   "cell_type": "markdown",
   "id": "21282720",
   "metadata": {},
   "source": [
    "## schedule_out_func"
   ]
  },
  {
   "cell_type": "code",
   "execution_count": 132,
   "id": "5bdcb311",
   "metadata": {},
   "outputs": [],
   "source": []
  },
  {
   "cell_type": "code",
   "execution_count": 132,
   "outputs": [],
   "source": [],
   "metadata": {
    "collapsed": false,
    "pycharm": {
     "name": "#%%\n"
    }
   }
  },
  {
   "cell_type": "code",
   "execution_count": 132,
   "outputs": [],
   "source": [],
   "metadata": {
    "collapsed": false,
    "pycharm": {
     "name": "#%%\n"
    }
   }
  },
  {
   "cell_type": "code",
   "execution_count": 132,
   "outputs": [],
   "source": [],
   "metadata": {
    "collapsed": false,
    "pycharm": {
     "name": "#%%\n"
    }
   }
  },
  {
   "cell_type": "code",
   "execution_count": null,
   "outputs": [],
   "source": [],
   "metadata": {
    "collapsed": false,
    "pycharm": {
     "name": "#%%\n"
    }
   }
  }
 ],
 "metadata": {
  "kernelspec": {
   "display_name": "Python 3 (ipykernel)",
   "language": "python",
   "name": "python3"
  },
  "language_info": {
   "codemirror_mode": {
    "name": "ipython",
    "version": 3
   },
   "file_extension": ".py",
   "mimetype": "text/x-python",
   "name": "python",
   "nbconvert_exporter": "python",
   "pygments_lexer": "ipython3",
   "version": "3.9.7"
  }
 },
 "nbformat": 4,
 "nbformat_minor": 5
}